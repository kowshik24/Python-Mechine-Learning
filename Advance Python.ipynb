{
 "cells": [
  {
   "cell_type": "code",
   "execution_count": 9,
   "metadata": {},
   "outputs": [
    {
     "name": "stdout",
     "output_type": "stream",
     "text": [
      "Moble Constructor Callled\n"
     ]
    }
   ],
   "source": [
    "class Mobile:\n",
    "    def __init__(self):\n",
    "        print(\"Moble Constructor Callled\")\n",
    "\n",
    "\n",
    "realme = Mobile()"
   ]
  },
  {
   "cell_type": "code",
   "execution_count": 3,
   "metadata": {},
   "outputs": [
    {
     "name": "stdout",
     "output_type": "stream",
     "text": [
      "RealMe Narzo 30\n"
     ]
    }
   ],
   "source": [
    "class Mobile:\n",
    "    def __init__(self):\n",
    "        self.model = 'RealMe Narzo 30'\n",
    "    \n",
    "    \n",
    "\n",
    "\n",
    "realme = Mobile()\n",
    "print(realme.model)"
   ]
  },
  {
   "cell_type": "code",
   "execution_count": 4,
   "metadata": {},
   "outputs": [
    {
     "name": "stdout",
     "output_type": "stream",
     "text": [
      "RealMe X\n"
     ]
    }
   ],
   "source": [
    "class Mobile:\n",
    "    def __init__(self,m):\n",
    "        self.model = m\n",
    "    \n",
    "    \n",
    "\n",
    "\n",
    "realme = Mobile(\"RealMe X\")\n",
    "print(realme.model)"
   ]
  },
  {
   "cell_type": "code",
   "execution_count": 7,
   "metadata": {},
   "outputs": [
    {
     "name": "stdout",
     "output_type": "stream",
     "text": [
      "Redmi 9s\n",
      "50\n"
     ]
    }
   ],
   "source": [
    "class Mobile:\n",
    "    def __init__(self,m,v=80):\n",
    "        self.model = m\n",
    "        self.volume = v\n",
    "    \n",
    "\n",
    "\n",
    "redmi = Mobile('Redmi 9s',50)\n",
    "print(redmi.model)\n",
    "print(redmi.volume)"
   ]
  },
  {
   "cell_type": "code",
   "execution_count": 8,
   "metadata": {},
   "outputs": [
    {
     "name": "stdout",
     "output_type": "stream",
     "text": [
      "Redmi 9s\n",
      "80\n"
     ]
    }
   ],
   "source": [
    "class Mobile:\n",
    "    def __init__(self,m,v=80):\n",
    "        self.model = m\n",
    "        self.volume = v\n",
    "    \n",
    "\n",
    "\n",
    "redmi = Mobile('Redmi 9s')\n",
    "print(redmi.model)\n",
    "print(redmi.volume)"
   ]
  },
  {
   "cell_type": "code",
   "execution_count": 11,
   "metadata": {},
   "outputs": [
    {
     "name": "stdout",
     "output_type": "stream",
     "text": [
      "Model :  RealMe X\n"
     ]
    }
   ],
   "source": [
    "class Mobile:\n",
    "    def __init__(self):\n",
    "        self.model = 'RealMe X'\n",
    "        \n",
    "    def show_model(self):\n",
    "        print(\"Model : \",self.model)\n",
    "\n",
    "\n",
    "realme = Mobile()\n",
    "\n",
    "realme.show_model()"
   ]
  },
  {
   "cell_type": "code",
   "execution_count": 16,
   "metadata": {},
   "outputs": [
    {
     "name": "stdout",
     "output_type": "stream",
     "text": [
      "Model :  Redmi 9s  and price :  1000\n",
      "Volume :  80\n"
     ]
    }
   ],
   "source": [
    "class Mobile:\n",
    "    def __init__(self,m,v=80):\n",
    "        self.model = m\n",
    "        self.volume = v\n",
    "    def show_model(self,p):\n",
    "        price = p\n",
    "        print(\"Model : \",self.model, \" and price : \",price)\n",
    "        print(\"Volume : \",self.volume)\n",
    "    \n",
    "\n",
    "\n",
    "redmi = Mobile('Redmi 9s')\n",
    "\n",
    "redmi.show_model(1000)"
   ]
  },
  {
   "cell_type": "code",
   "execution_count": 18,
   "metadata": {},
   "outputs": [
    {
     "name": "stdout",
     "output_type": "stream",
     "text": [
      "Model :  Redmi 9s  and price :  1000\n",
      "Volume :  50\n"
     ]
    }
   ],
   "source": [
    "class Mobile:\n",
    "    def __init__(self,m,v=80):\n",
    "        self.model = m\n",
    "        self.volume = v\n",
    "    def show_model(self,p):\n",
    "        price = p\n",
    "        print(\"Model : \",self.model, \" and price : \",price)\n",
    "        print(\"Volume : \",self.volume)\n",
    "    \n",
    "\n",
    "# Passing arguments to Constructor\n",
    "redmi = Mobile('Redmi 9s',50)\n",
    "\n",
    "# Accesing Method from outside Class\n",
    "redmi.show_model(1000)\n"
   ]
  },
  {
   "cell_type": "code",
   "execution_count": 19,
   "metadata": {},
   "outputs": [
    {
     "name": "stdout",
     "output_type": "stream",
     "text": [
      "Model :  Redmi 9s  and price :  1000\n",
      "Volume :  80\n",
      "Model :  Realme X  and price :  2000\n",
      "Volume :  50\n"
     ]
    }
   ],
   "source": [
    "class Mobile:\n",
    "    def __init__(self,m,v=80):\n",
    "        self.model = m\n",
    "        self.volume = v\n",
    "    def show_model(self,p):\n",
    "        price = p\n",
    "        print(\"Model : \",self.model, \" and price : \",price)\n",
    "        print(\"Volume : \",self.volume)\n",
    "    \n",
    "\n",
    "# Passing arguments to Constructor\n",
    "redmi = Mobile('Redmi 9s')\n",
    "\n",
    "# Accesing Method from outside Class\n",
    "redmi.show_model(1000)\n",
    "\n",
    "realme = Mobile('Realme X', 50)\n",
    "realme.show_model(2000)"
   ]
  },
  {
   "cell_type": "markdown",
   "metadata": {},
   "source": [
    "# Instance Varibale\n",
    "\n",
    "\n",
    "# Class/ Static Veriable\n",
    "\n",
    "'''\n",
    "1. Instance veriable are the veriable whose seperate copy is created in\n",
    "every object. \n",
    "2. Instance veriable are defined and initailized using a\n",
    "constuctor with self parameter\n",
    "'''"
   ]
  },
  {
   "cell_type": "code",
   "execution_count": 24,
   "metadata": {},
   "outputs": [
    {
     "name": "stdout",
     "output_type": "stream",
     "text": [
      "RalMe X\n"
     ]
    }
   ],
   "source": [
    "class Mobile:\n",
    "    def __init__(self):\n",
    "        self.model = 'RalMe X' # instance veriable\n",
    "        \n",
    "    def show_model(self): \n",
    "        print(self.model)\n",
    "        \n",
    "        \n",
    "\n",
    "realme = Mobile()\n",
    "realme.show_model()\n",
    "        \n",
    "        "
   ]
  },
  {
   "cell_type": "markdown",
   "metadata": {},
   "source": [
    "# Accessing Instance Variable (Inside Class)\n",
    "\n",
    "# with 'Instance Method'\n",
    "\n",
    "\n",
    "To access instance veriable we need 'Instance Method' with self as \n",
    "first parameter then we can access instance variable using 'self.veriable_name'\n",
    "\n",
    "Ex:\n",
    "\n",
    "\n"
   ]
  },
  {
   "cell_type": "code",
   "execution_count": 26,
   "metadata": {},
   "outputs": [
    {
     "name": "stdout",
     "output_type": "stream",
     "text": [
      "RalMe X\n"
     ]
    }
   ],
   "source": [
    "class Mobile:\n",
    "    def __init__(self):\n",
    "        self.model = 'RalMe X' # instance veriable\n",
    "        \n",
    "    def show_model(self): # Instance Method\n",
    "        print(self.model) # accessing Instance Veriable\n",
    "        \n",
    "        \n",
    "\n",
    "realme = Mobile()\n",
    "realme.show_model()\n",
    "        \n",
    "        "
   ]
  },
  {
   "cell_type": "markdown",
   "metadata": {},
   "source": [
    "# Accessing Instance Variable (Outside Class)\n",
    "\n",
    "We can access instance veriable using **object_name.variable_name\n",
    "\n"
   ]
  },
  {
   "cell_type": "code",
   "execution_count": 27,
   "metadata": {},
   "outputs": [
    {
     "name": "stdout",
     "output_type": "stream",
     "text": [
      "RalMe X\n"
     ]
    }
   ],
   "source": [
    "class Mobile:\n",
    "    def __init__(self):\n",
    "        self.model = 'RalMe X' # instance veriable\n",
    "        \n",
    "    def show_model(self): # Instance Method\n",
    "        print(self.model) # accessing Instance Veriable\n",
    "        \n",
    "        \n",
    "\n",
    "realme = Mobile()\n",
    "print(realme.model)\n",
    "        \n",
    "        "
   ]
  },
  {
   "cell_type": "markdown",
   "metadata": {},
   "source": [
    " Instance veriable are the variables whose **seperate\n",
    "copy is created in evey object**(If we modify the copy of instance in and instance, it will not effet all the copies in the other instance)\n",
    "\n"
   ]
  },
  {
   "cell_type": "code",
   "execution_count": 30,
   "metadata": {},
   "outputs": [
    {
     "name": "stdout",
     "output_type": "stream",
     "text": [
      "RealMe X\n",
      "RealMe X\n",
      "RealMe X\n"
     ]
    }
   ],
   "source": [
    "class Mobile:\n",
    "    def __init__(self):\n",
    "        self.model = 'RealMe X' # instance veriable\n",
    "        \n",
    "    def show_model(self): # Instance Method\n",
    "        print(self.model) # accessing Instance Veriable\n",
    "        \n",
    "        \n",
    "\n",
    "realme = Mobile()\n",
    "redmi = Mobile()\n",
    "iPhone = Mobile()\n",
    "\n",
    "print(realme.model)\n",
    "print(redmi.model)\n",
    "print(iPhone.model)\n",
    "        \n",
    "        "
   ]
  },
  {
   "cell_type": "code",
   "execution_count": 32,
   "metadata": {},
   "outputs": [
    {
     "name": "stdout",
     "output_type": "stream",
     "text": [
      "RealMe X\n",
      "Redmi 9s\n",
      "Iphone 12 Pro Max\n"
     ]
    }
   ],
   "source": [
    "class Mobile:\n",
    "    def __init__(self):\n",
    "        self.model = 'RealMe X' # instance veriable\n",
    "        \n",
    "    def show_model(self): # Instance Method\n",
    "        print(self.model) # accessing Instance Veriable\n",
    "        \n",
    "        \n",
    "\n",
    "realme = Mobile()\n",
    "redmi = Mobile()\n",
    "iPhone = Mobile()\n",
    "\n",
    "redmi.model = \"Redmi 9s\"\n",
    "iPhone.model = \"Iphone 12 Pro Max\"\n",
    "\n",
    "print(realme.model)\n",
    "print(redmi.model)\n",
    "print(iPhone.model)\n",
    "        \n",
    "        "
   ]
  },
  {
   "cell_type": "markdown",
   "metadata": {},
   "source": [
    "# Class Variable/ Static Veriable\n",
    "\n",
    "Class veriable are the veriable whose **single copy** is available to all\n",
    "the instances of the class. If we modify the copy of class variable in\n",
    "an instance, it will effect all the copies in the other instance"
   ]
  },
  {
   "cell_type": "code",
   "execution_count": 33,
   "metadata": {},
   "outputs": [],
   "source": [
    "class Mobile:\n",
    "    fp = 'Yes' # Class Variable\n",
    "    \n",
    "    def __init__(self):\n",
    "        self.model = 'RealMe X'\n",
    "        \n",
    "    \n",
    "    def show_mode(self):\n",
    "        print(self.model)\n",
    "        \n",
    "        \n",
    "\n",
    "        \n",
    "realme = Mobile()\n",
    "\n",
    "\n",
    "\n"
   ]
  },
  {
   "cell_type": "markdown",
   "metadata": {},
   "source": [
    "# Accessing Class/ Static Variable\n",
    "\n",
    "With Class Method: To access class veriable we need class method\n",
    "\n",
    "with cls as first parameter then we can access class variable u\n",
    "using cls.variable_name\n",
    "    "
   ]
  },
  {
   "cell_type": "markdown",
   "metadata": {},
   "source": [
    "# Decorator Function\n",
    "\n",
    "A decorator funtion is a funtion that accepts a function as parameter and returns a\n",
    "function. \n",
    "\n",
    "A decorator takes the result of a function, modifies the result and returns it.\n",
    "\n",
    "In decorators, functions are taken as the argument into another funtion and \n",
    "then called inside the wrapper function\n",
    "\n",
    "We use @funtion_name to specify a decorator to be applied on another function\n",
    "\n"
   ]
  },
  {
   "cell_type": "code",
   "execution_count": 38,
   "metadata": {},
   "outputs": [
    {
     "name": "stdout",
     "output_type": "stream",
     "text": [
      "Inner functon before enhancing\n",
      "We will use this function\n",
      "And will enhacne this in decorator\n",
      "Inner Function After enhancing\n"
     ]
    }
   ],
   "source": [
    "def decor(fun):\n",
    "    def inner():\n",
    "        print(\"Inner functon before enhancing\")\n",
    "        fun()\n",
    "        print(\"Inner Function After enhancing\")\n",
    "    \n",
    "    return inner\n",
    "\n",
    "\n",
    "def num():\n",
    "    print(\"We will use this function\")\n",
    "    print(\"And will enhacne this in decorator\")\n",
    "    \n",
    "\n",
    "result_fun = decor(num)\n",
    "\n",
    "result_fun()"
   ]
  },
  {
   "cell_type": "code",
   "execution_count": 39,
   "metadata": {},
   "outputs": [
    {
     "name": "stdout",
     "output_type": "stream",
     "text": [
      "Inner functon before enhancing\n",
      "We will use this function\n",
      "And will enhacne this in decorator\n",
      "Inner Function After enhancing\n"
     ]
    }
   ],
   "source": [
    "def decor(num):\n",
    "    def inner():\n",
    "        print(\"Inner functon before enhancing\")\n",
    "        num()\n",
    "        print(\"Inner Function After enhancing\")\n",
    "    \n",
    "    return inner\n",
    "\n",
    "\n",
    "def num():\n",
    "    print(\"We will use this function\")\n",
    "    print(\"And will enhacne this in decorator\")\n",
    "    \n",
    "\n",
    "num = decor(num)\n",
    "\n",
    "num()"
   ]
  },
  {
   "cell_type": "code",
   "execution_count": 40,
   "metadata": {},
   "outputs": [
    {
     "name": "stdout",
     "output_type": "stream",
     "text": [
      "Inner functon before enhancing\n",
      "We will use this function\n",
      "And will enhacne this in decorator\n",
      "Inner Function After enhancing\n"
     ]
    }
   ],
   "source": [
    "def decor(num):\n",
    "    def inner():\n",
    "        print(\"Inner functon before enhancing\")\n",
    "        num()\n",
    "        print(\"Inner Function After enhancing\")\n",
    "    \n",
    "    return inner\n",
    "@decor\n",
    "\n",
    "def num():\n",
    "    print(\"We will use this function\")\n",
    "    print(\"And will enhacne this in decorator\")\n",
    "    \n",
    "\n",
    "num()"
   ]
  },
  {
   "cell_type": "code",
   "execution_count": 43,
   "metadata": {},
   "outputs": [
    {
     "name": "stdout",
     "output_type": "stream",
     "text": [
      "15\n"
     ]
    }
   ],
   "source": [
    "def decor(fun):\n",
    "    def inner():\n",
    "        a = fun()\n",
    "        add = a+5\n",
    "        return add\n",
    "    return inner\n",
    "            \n",
    "\n",
    "\n",
    "def num():\n",
    "    return 10\n",
    "\n",
    "result_fun = decor(num)\n",
    "print(result_fun())"
   ]
  },
  {
   "cell_type": "code",
   "execution_count": 45,
   "metadata": {},
   "outputs": [
    {
     "name": "stdout",
     "output_type": "stream",
     "text": [
      "15\n"
     ]
    }
   ],
   "source": [
    "def decor(num):\n",
    "    def inner():\n",
    "        a = num()\n",
    "        add = a+5\n",
    "        return add\n",
    "    return inner\n",
    "\n",
    "            \n",
    "\n",
    "\n",
    "def num():\n",
    "    return 10\n",
    "\n",
    "num = decor(num)\n",
    "print(num())"
   ]
  },
  {
   "cell_type": "code",
   "execution_count": 46,
   "metadata": {},
   "outputs": [
    {
     "name": "stdout",
     "output_type": "stream",
     "text": [
      "15\n"
     ]
    }
   ],
   "source": [
    "def decor(num):\n",
    "    def inner():\n",
    "        a = num()\n",
    "        add = a+5\n",
    "        return add\n",
    "    return inner\n",
    "\n",
    "            \n",
    "@decor\n",
    "\n",
    "def num():\n",
    "    return 10\n",
    "\n",
    "print(num())"
   ]
  },
  {
   "cell_type": "code",
   "execution_count": 1,
   "metadata": {},
   "outputs": [
    {
     "name": "stdout",
     "output_type": "stream",
     "text": [
      "Yes\n"
     ]
    }
   ],
   "source": [
    "class Mobile:\n",
    "    fp = 'Yes' # Class Variable\n",
    "    \n",
    "    def __init__(self):\n",
    "        self.model = 'RealMe X'\n",
    "        \n",
    "    \n",
    "    def show_mode(self):\n",
    "        print(self.model)\n",
    "        \n",
    "    @classmethod #decorator function\n",
    "    \n",
    "    def is_fp(cls):\n",
    "        return cls.fp\n",
    "        \n",
    "    \n",
    "\n",
    "\n",
    "\n",
    "realme = Mobile()\n",
    "\n",
    "print(realme.is_fp())\n",
    "\n",
    "\n",
    "\n"
   ]
  },
  {
   "cell_type": "markdown",
   "metadata": {},
   "source": [
    "# Accessing Class/Static Variable\n",
    "\n",
    "# Outside Class\n",
    "\n",
    "We can access class variable using Classname.variable_name\n",
    "\n",
    "Class varibale are the variable whose single copy is available\n",
    "to all the instances of the class. If we modify the copy of class\n",
    "variable in an instance, it will effect all the copies in the other\n",
    "instance\n"
   ]
  },
  {
   "cell_type": "code",
   "execution_count": 51,
   "metadata": {},
   "outputs": [
    {
     "name": "stdout",
     "output_type": "stream",
     "text": [
      "Yes\n"
     ]
    }
   ],
   "source": [
    "class Mobile:\n",
    "    fp = 'Yes' # Class Variable\n",
    "    \n",
    "        \n",
    "    @classmethod #decorator function\n",
    "    \n",
    "    def show(cls): # Class Method\n",
    "        return cls.fp # Accessing Class Variable inside Class Method\n",
    "    \n",
    "        \n",
    "    \n",
    "\n",
    "\n",
    "\n",
    "realme = Mobile()\n",
    "\n",
    "print(Mobile.show())\n",
    "\n",
    "\n",
    "\n"
   ]
  },
  {
   "cell_type": "code",
   "execution_count": 54,
   "metadata": {},
   "outputs": [
    {
     "name": "stdout",
     "output_type": "stream",
     "text": [
      "Yes\n",
      "No\n"
     ]
    }
   ],
   "source": [
    "class Mobile:\n",
    "    fp = 'Yes' # Class Variable\n",
    "    \n",
    "        \n",
    "    @classmethod #decorator function\n",
    "    \n",
    "    def show(cls): # Class Method\n",
    "        return cls.fp # Accessing Class Variable inside Class Method\n",
    "    \n",
    "        \n",
    "    \n",
    "\n",
    "\n",
    "\n",
    "realme = Mobile()\n",
    "redmi = Mobile()\n",
    "Iphone = Mobile()\n",
    "\n",
    "print(Mobile.fp)\n",
    "\n",
    "Mobile.fp = 'No'\n",
    "\n",
    "realme = Mobile()\n",
    "redmi = Mobile()\n",
    "Iphone = Mobile()\n",
    "\n",
    "print(Mobile.fp)\n",
    "\n",
    "\n",
    "\n",
    "\n",
    "\n",
    "\n"
   ]
  },
  {
   "cell_type": "code",
   "execution_count": 58,
   "metadata": {},
   "outputs": [
    {
     "name": "stdout",
     "output_type": "stream",
     "text": [
      "Model :  RealMe X\n",
      "Finger Print:  Yes\n",
      "Finger Print:  No\n"
     ]
    }
   ],
   "source": [
    "class Mobile:\n",
    "    fp = \"Yes\"    # Class Variable\n",
    "    \n",
    "    def __init__(self):\n",
    "        self.model = 'RealMe X' # Instance Variable\n",
    "        \n",
    "    \n",
    "    def show_model(self): # Instance Method\n",
    "        print(\"Model : \",self.model) # Accessing Instance Variable\n",
    "        \n",
    "    \n",
    "    @classmethod # Class Method\n",
    "    \n",
    "    def is_fp(cls):\n",
    "        print(\"Finger Print: \", cls.fp) # Accessing Class Variable\n",
    "        \n",
    "        \n",
    "\n",
    "realme = Mobile()\n",
    "realme.show_model()\n",
    "Mobile.is_fp()\n",
    "\n",
    "Mobile.fp = 'No'\n",
    "\n",
    "Mobile.is_fp()"
   ]
  },
  {
   "cell_type": "code",
   "execution_count": 65,
   "metadata": {},
   "outputs": [
    {
     "name": "stdout",
     "output_type": "stream",
     "text": [
      "RealMe :  Yes\n",
      "Redmi :  Yes\n",
      "Iphone :  Yes\n",
      "RealMe :  Yes\n",
      "Redmi :  Yes\n",
      "Iphone :  Yes\n",
      "\n",
      "RealMe :  Yes\n",
      "Redmi :  Yes\n",
      "Iphone :  Yes\n",
      "RealMe :  Not Working\n",
      "Redmi :  Yes\n",
      "Iphone :  Yes\n",
      "\n",
      "RealMe :  Yes\n",
      "Redmi :  Yes\n",
      "Iphone :  Yes\n",
      "RealMe :  Not Working\n",
      "Redmi :  Yes\n",
      "Iphone :  Yes\n"
     ]
    }
   ],
   "source": [
    "class Mobile:\n",
    "    fp = \"Yes\"    # Class Variable\n",
    "    \n",
    "    def __init__(self):\n",
    "        self.model = 'RealMe X' # Instance Variable\n",
    "        \n",
    "    \n",
    "    def show_model(self): # Instance Method\n",
    "        print(\"Model : \",self.model) # Accessing Instance Variable\n",
    "        \n",
    "    \n",
    "    @classmethod # Class Method\n",
    "    \n",
    "    def is_fp(cls):\n",
    "        print(\"Finger Print: \", cls.fp) # Accessing Class Variable\n",
    "        \n",
    "        \n",
    "\n",
    "realme = Mobile()\n",
    "redmi = Mobile()\n",
    "Iphone = Mobile()\n",
    "\n",
    "print(\"RealMe : \",Mobile.fp)\n",
    "print(\"Redmi : \",Mobile.fp)\n",
    "print(\"Iphone : \",Mobile.fp)\n",
    "print(\"RealMe : \",realme.fp)\n",
    "print(\"Redmi : \",redmi.fp)\n",
    "print(\"Iphone : \",Iphone.fp)\n",
    "\n",
    "\n",
    "\n",
    "print()\n",
    "\n",
    "\n",
    "realme.fp = 'Not Working'\n",
    "\n",
    "print(\"RealMe : \",Mobile.fp)\n",
    "print(\"Redmi : \",Mobile.fp)\n",
    "print(\"Iphone : \",Mobile.fp)\n",
    "print(\"RealMe : \",realme.fp)\n",
    "print(\"Redmi : \",redmi.fp)\n",
    "print(\"Iphone : \",Iphone.fp)\n",
    "\n",
    "print()\n",
    "\n",
    "print(\"RealMe : \",Mobile.fp)\n",
    "print(\"Redmi : \",Mobile.fp)\n",
    "print(\"Iphone : \",Mobile.fp)\n",
    "print(\"RealMe : \",realme.fp)\n",
    "print(\"Redmi : \",redmi.fp)\n",
    "print(\"Iphone : \",Iphone.fp)"
   ]
  },
  {
   "cell_type": "markdown",
   "metadata": {},
   "source": [
    "# Instance Method in Python\n"
   ]
  },
  {
   "cell_type": "markdown",
   "metadata": {},
   "source": [
    "# Type of Method\n",
    "-> Accessor Methods\n",
    "-> Mutator Methods\n",
    "\n",
    "* Class Methods\n",
    "\n",
    "* Static Methods\n",
    "\n",
    "1. Instance Method: Instance methods are the methods which act upon the instance\n",
    "    variable of the class. Instance method need to know the memory address of the instance\n",
    "    which is provided through sefl variable by default as first parameter for the instance\n"
   ]
  },
  {
   "cell_type": "code",
   "execution_count": 2,
   "metadata": {},
   "outputs": [],
   "source": [
    "def method_name(self): # instance method without parameter/arguments\n",
    "    pass\n",
    "\n",
    "def method_name(self,f1,f2): # instance method with parameter/arguments\n",
    "    pass"
   ]
  },
  {
   "cell_type": "code",
   "execution_count": 3,
   "metadata": {},
   "outputs": [
    {
     "name": "stdout",
     "output_type": "stream",
     "text": [
      "RealMe X\n"
     ]
    }
   ],
   "source": [
    " # instance method without parameter/arguments\n",
    "class Mobile:\n",
    "    def show_model(self):\n",
    "        print(\"RealMe X\")\n",
    "        \n",
    "\n",
    "realme = Mobile()\n",
    "\n",
    "realme.show_model()\n",
    "    "
   ]
  },
  {
   "cell_type": "code",
   "execution_count": 5,
   "metadata": {},
   "outputs": [
    {
     "name": "stdout",
     "output_type": "stream",
     "text": [
      "RealMe X\n"
     ]
    }
   ],
   "source": [
    "class Mobile:\n",
    "    def __init__(self):\n",
    "        self.model = 'RealMe X' # instance variable\n",
    "        \n",
    "    def show_model(self): # instance method\n",
    "        print(self.model) # accessing instacne variable\n",
    "        \n",
    "        \n",
    "        \n",
    "realme = Mobile()\n",
    "\n",
    "realme.show_model() # calling instance method without parameter"
   ]
  },
  {
   "cell_type": "code",
   "execution_count": 7,
   "metadata": {},
   "outputs": [
    {
     "name": "stdout",
     "output_type": "stream",
     "text": [
      "Price :  10000\n",
      "RealMe X\n",
      "Price :  20000\n",
      "RealMe X\n"
     ]
    }
   ],
   "source": [
    "# calling instance method with parameter\n",
    "\n",
    "class Mobile:\n",
    "    def __init__(self):\n",
    "        self.model = 'RealMe X' # instance variable\n",
    "        \n",
    "    def show_model(self,p): # instance method with parameter\n",
    "        self.p = p\n",
    "        print(\"Price : \",self.p)\n",
    "        print(self.model) # accessing instacne variable\n",
    "        \n",
    "        \n",
    "        \n",
    "realme = Mobile()\n",
    "redmi = Mobile()\n",
    "realme.show_model(10000) # calling instance method with parameter\n",
    "redmi.show_model(20000)"
   ]
  },
  {
   "cell_type": "markdown",
   "metadata": {},
   "source": [
    "# Accesor Method / Getter method\n",
    "\n",
    "1. This method is used to **access or read data of the variables**. This method do not modify the data in the variable. this is also called as getter mathod\n",
    "\n",
    "Convention(Example):\n",
    "\n",
    "def get_value(self):\n",
    "def get_result(self):\n",
    "def get_name(self):\n",
    "def get_id(self):"
   ]
  },
  {
   "cell_type": "code",
   "execution_count": 9,
   "metadata": {},
   "outputs": [
    {
     "name": "stdout",
     "output_type": "stream",
     "text": [
      "RealMe X\n"
     ]
    }
   ],
   "source": [
    "class Mobile:\n",
    "    def __init__(self):\n",
    "        self.model = 'RealMe X' # Instance Variable\n",
    "    \n",
    "    def get_model(self): # Accessor Method\n",
    "        return self.model\n",
    "    \n",
    "    \n",
    "realme = Mobile()\n",
    "\n",
    "print(realme.get_model()) # Calling Accessor Method\n",
    "    "
   ]
  },
  {
   "cell_type": "markdown",
   "metadata": {},
   "source": [
    "# Mutator Method/ Setter Method \n",
    "\n",
    "-> This method is used to **access or read and modify** data of the variabel. This method modify the data in the variable. This is also called setter method.\n",
    "\n",
    "Example:\n",
    "  def set_value(self):\n",
    "  def set_name(self):\n",
    "  def set_result(self):\n",
    "  def set_id(self):\n"
   ]
  },
  {
   "cell_type": "code",
   "execution_count": 21,
   "metadata": {},
   "outputs": [
    {
     "name": "stdout",
     "output_type": "stream",
     "text": [
      "RealMe X\n",
      "RealMe 2\n"
     ]
    }
   ],
   "source": [
    "class Mobile:\n",
    "    def __init__(self):\n",
    "        self.model = 'RealMe X'\n",
    "        \n",
    "    def set_model(self): # Setter/Mutator Mathod\n",
    "        self.model = 'RealMe 2'\n",
    "    \n",
    "\n",
    "realme = Mobile()\n",
    "\n",
    "print(realme.model)\n",
    "\n",
    "realme.set_model()\n",
    "\n",
    "print(realme.model)\n",
    "        "
   ]
  },
  {
   "cell_type": "code",
   "execution_count": 22,
   "metadata": {},
   "outputs": [
    {
     "name": "stdout",
     "output_type": "stream",
     "text": [
      "RealMe X\n"
     ]
    }
   ],
   "source": [
    "class Mobile:\n",
    "    def set_model(self,m):  # Setter/Mutator Mathod\n",
    "        self.model = m\n",
    "        \n",
    "    \n",
    "    \n",
    "realme = Mobile()\n",
    "\n",
    "realme.set_model('RealMe X') # Calling Setter Method\n",
    "\n",
    "print(realme.model)\n",
    "    "
   ]
  },
  {
   "cell_type": "markdown",
   "metadata": {},
   "source": [
    "# Class Methods\n",
    "\n",
    "-> Class methods are the methods which act upon the class variables or static of the class\n",
    "\n",
    "Decorator **@classmethod** need to write above the class method\n",
    "\n",
    "By default, the first parameter of class method is **cls** which refer to the class itself\n",
    "\n",
    "**we can use different name instead of 'cls'**\n",
    "\n",
    "\n",
    "Syntex:\n",
    "@classmethod # decorator\n",
    "\n",
    "def method_name(cls): # class method without parameter/formal argument\n",
    "    function body\n",
    "    \n",
    "    \n",
    "    \n",
    "@classmethod   # decorator\n",
    "def method_name(cls,f1,f2):# class method with Parameter/formal argument\n",
    "       function body"
   ]
  },
  {
   "cell_type": "code",
   "execution_count": 23,
   "metadata": {},
   "outputs": [],
   "source": [
    "# class method without parameter/formal argument\n",
    "\n",
    "class Mobile:\n",
    "    @classmethod\n",
    "    \n",
    "    def show_model(cls):\n",
    "        print(\"RealMe X\")\n",
    "        \n",
    "\n",
    "realme = Mobile()"
   ]
  },
  {
   "cell_type": "code",
   "execution_count": 28,
   "metadata": {},
   "outputs": [],
   "source": [
    "class Mobile:\n",
    "    fp = 'Yes' # Class Variable\n",
    "    \n",
    "    @classmethod # Decorator\n",
    "    \n",
    "    def show_model(cls): # Class Method\n",
    "        print(cls.fp) # Accessing class variable inside Class Method\n",
    "        \n",
    "        \n",
    "realme = Mobile()\n",
    "\n"
   ]
  },
  {
   "cell_type": "code",
   "execution_count": 30,
   "metadata": {},
   "outputs": [],
   "source": [
    "# Calling Class Method without Argument\n",
    "\n",
    "# Syntex: Classname.method_name()"
   ]
  },
  {
   "cell_type": "code",
   "execution_count": 32,
   "metadata": {},
   "outputs": [
    {
     "name": "stdout",
     "output_type": "stream",
     "text": [
      "Yes\n",
      "Yes\n"
     ]
    }
   ],
   "source": [
    "class Mobile:\n",
    "    fp = 'Yes' # Class Variable\n",
    "    \n",
    "    @classmethod # Decorator\n",
    "    \n",
    "    def show_model(cls): # Class Method\n",
    "        print(cls.fp) # Accessing class variable inside Class Method\n",
    "        \n",
    "        \n",
    "realme = Mobile()\n",
    "\n",
    "Mobile.show_model() # Calling Class Method without Argument\n",
    "realme.show_model()\n",
    "\n"
   ]
  },
  {
   "cell_type": "code",
   "execution_count": null,
   "metadata": {},
   "outputs": [],
   "source": [
    "# Calling Class Method with Argument"
   ]
  },
  {
   "cell_type": "code",
   "execution_count": 35,
   "metadata": {},
   "outputs": [
    {
     "name": "stdout",
     "output_type": "stream",
     "text": [
      "4GB\n",
      "Yes\n"
     ]
    }
   ],
   "source": [
    "class Mobile:\n",
    "    fp = 'Yes' # Class Variable\n",
    "    \n",
    "    @classmethod # Decorator\n",
    "    \n",
    "    def show_model(cls,r): # Class Method\n",
    "        cls.ram = r\n",
    "        print(cls.ram)\n",
    "        print(cls.fp) # Accessing class variable inside Class Method\n",
    "        \n",
    "        \n",
    "realme = Mobile()\n",
    "\n",
    "Mobile.show_model('4GB') # Calling Class Method with Argument \n",
    "\n"
   ]
  },
  {
   "cell_type": "markdown",
   "metadata": {},
   "source": [
    "# Static Method\n",
    "\n",
    "Static Methods are used when some processing is related to the class but does not need the class or its instances to perform any work\n",
    "\n",
    "We use static method when we want to pass some values from outside and perform some action in the method\n",
    "\n",
    "Decorator @staaticmethod need to write above the static method\n",
    "\n",
    "\n",
    "Syntex:\n",
    "\n",
    "@staticmethod\n",
    "def method_name():\n",
    "    method body\n",
    "    \n"
   ]
  },
  {
   "cell_type": "code",
   "execution_count": 36,
   "metadata": {},
   "outputs": [],
   "source": [
    "# Static Method without Parameter\n",
    "\n",
    "class Mobile:\n",
    "    @staticmethod\n",
    "    def show_model():\n",
    "        print(\"RealMe X\")\n",
    "        \n",
    "\n",
    "realme = Mobile()\n",
    "    "
   ]
  },
  {
   "cell_type": "code",
   "execution_count": 40,
   "metadata": {},
   "outputs": [
    {
     "name": "stdout",
     "output_type": "stream",
     "text": [
      "Yes\n",
      "Yes\n"
     ]
    }
   ],
   "source": [
    "# Static Method without Parameter\n",
    "\n",
    "class Mobile:\n",
    "    fp = 'Yes'\n",
    "    @staticmethod #decorator\n",
    "    def show_model(): # static method without parameter\n",
    "        print(Mobile.fp)\n",
    "        \n",
    "\n",
    "realme = Mobile()\n",
    "\n",
    "'''\n",
    "\n",
    "Calling static method without Argument\n",
    "\n",
    "Syntex:\n",
    "\n",
    "Classname.mothod_name()\n",
    "'''\n",
    "\n",
    "Mobile.show_model() # Calling Static Method Without Parameter\n",
    "realme.show_model()\n",
    "    "
   ]
  },
  {
   "cell_type": "code",
   "execution_count": 41,
   "metadata": {},
   "outputs": [
    {
     "name": "stdout",
     "output_type": "stream",
     "text": [
      "Realme X 100000\n",
      "Realme Narzo 30 200000\n"
     ]
    }
   ],
   "source": [
    "# Static Method with Parameter\n",
    "\n",
    "class Mobile:\n",
    "    \n",
    "    @staticmethod #decorator\n",
    "    def show_model(m,p): # static method without parameter\n",
    "        model = m\n",
    "        price = p\n",
    "        print(model,price)\n",
    "        \n",
    "\n",
    "realme = Mobile()\n",
    "\n",
    "'''\n",
    "\n",
    "Calling static method without Argument\n",
    "\n",
    "Syntex:\n",
    "\n",
    "Classname.mothod_name()\n",
    "'''\n",
    "\n",
    "Mobile.show_model('Realme X',100000) # Calling Static Method out Parameter\n",
    "realme.show_model('Realme Narzo 30',200000)\n",
    "    "
   ]
  },
  {
   "cell_type": "markdown",
   "metadata": {},
   "source": [
    "# Inheritance \n",
    "1. Single Inheritance\n",
    "2. Multi-level Inheritance\n",
    "3. Hierarchical Inheritance\n",
    "4. Multiple Inheritance"
   ]
  },
  {
   "cell_type": "code",
   "execution_count": 15,
   "metadata": {},
   "outputs": [
    {
     "name": "stdout",
     "output_type": "stream",
     "text": [
      "Child Class Instance Method\n",
      "Parent class instance method \n",
      "Parnet class Class Method :  1000\n",
      "Parent class Mehod:  10\n",
      "Parent class instance method \n",
      "Parnet class Class Method :  1000\n",
      "Parent class Mehod:  10\n"
     ]
    }
   ],
   "source": [
    "# Single Inheritnace\n",
    "\n",
    "class Father:\n",
    "    money = 1000\n",
    "    def show(self):\n",
    "        print(\"Parent class instance method \")\n",
    "        \n",
    "    @classmethod\n",
    "    def show_money(cls):\n",
    "        print(\"Parnet class Class Method : \",cls.money)\n",
    "        \n",
    "    @staticmethod\n",
    "    \n",
    "    def stat():\n",
    "        a = 10\n",
    "        print(\"Parent class Mehod: \",a)\n",
    "\n",
    "class Son(Father):\n",
    "    def disp(self):\n",
    "        print(\"Child Class Instance Method\")\n",
    "        \n",
    "\n",
    "        \n",
    "s = Son()\n",
    "\n",
    "s.disp()\n",
    "s.show()\n",
    "s.show_money()\n",
    "s.stat()\n",
    "\n",
    "f = Father()\n",
    "\n",
    "f.show()\n",
    "f.show_money()\n",
    "f.stat()\n",
    "\n",
    "    \n",
    "    \n",
    "    \n",
    "    \n",
    "    \n",
    "    \n",
    "    \n",
    "  "
   ]
  },
  {
   "cell_type": "code",
   "execution_count": 22,
   "metadata": {},
   "outputs": [
    {
     "name": "stdout",
     "output_type": "stream",
     "text": [
      "Father Class Constructor\n",
      "1000\n",
      "Faher Class Instance Method\n",
      "Son Class Instace Method 1000\n"
     ]
    }
   ],
   "source": [
    "# Constructor in Inhertnce\n",
    "\n",
    "class Father:\n",
    "    def __init__(self):\n",
    "        self.money = 2000\n",
    "        print(\"Father Class Constructor\")\n",
    "    def show(self):\n",
    "        print(\"Faher Class Instance Method\")\n",
    "        \n",
    "        \n",
    "class Son(Father):\n",
    "    def disp(self):\n",
    "        print(\"Son Class Instace Method\",self.money)\n",
    "        \n",
    "        \n",
    "s = Son()\n",
    "print(s.money)\n",
    "\n",
    "s.show()\n",
    "s.disp()"
   ]
  },
  {
   "cell_type": "code",
   "execution_count": 23,
   "metadata": {},
   "outputs": [
    {
     "name": "stdout",
     "output_type": "stream",
     "text": [
      "Father Class Constructor\n",
      "10000\n",
      "Faher Class Instance Method\n",
      "Son Class Instace Method 10000\n"
     ]
    }
   ],
   "source": [
    "# Constructor in Inhertnce\n",
    "\n",
    "class Father:\n",
    "    def __init__(self,m):\n",
    "        self.money = m\n",
    "        print(\"Father Class Constructor\")\n",
    "    def show(self):\n",
    "        print(\"Faher Class Instance Method\")\n",
    "        \n",
    "        \n",
    "class Son(Father):\n",
    "    def disp(self):\n",
    "        print(\"Son Class Instace Method\",self.money)\n",
    "        \n",
    "        \n",
    "s = Son(10000)\n",
    "print(s.money)\n",
    "\n",
    "s.show()\n",
    "s.disp()"
   ]
  },
  {
   "cell_type": "code",
   "execution_count": 30,
   "metadata": {},
   "outputs": [
    {
     "name": "stdout",
     "output_type": "stream",
     "text": [
      "Child Class Constructor\n",
      "2000\n",
      "BMW\n",
      "Son Class Instance Method\n",
      "BMW\n",
      "Father Class Instance Method\n"
     ]
    }
   ],
   "source": [
    "# Constructor Overriding\n",
    "\n",
    "class Father:\n",
    "    def __init__(self):\n",
    "        self.money = 1000\n",
    "        print(\"Father Class Constructor\")\n",
    "        \n",
    "    def show(self):\n",
    "        print(\"Father Class Instance Method\")\n",
    "        \n",
    "\n",
    "class Son(Father):\n",
    "    def __init__(self):\n",
    "        self.money = 2000\n",
    "        self.car = 'BMW'\n",
    "        print(\"Child Class Constructor\")\n",
    "    def disp(self):\n",
    "        print(self.money)\n",
    "        print(self.car)\n",
    "        print(\"Son Class Instance Method\")\n",
    "        \n",
    "s = Son()\n",
    "s.disp()\n",
    "print(s.car)\n",
    "s.show()\n",
    "\n"
   ]
  },
  {
   "cell_type": "code",
   "execution_count": 31,
   "metadata": {},
   "outputs": [
    {
     "name": "stdout",
     "output_type": "stream",
     "text": [
      "Father Class Constructor\n",
      "Child Class Constructor\n",
      "2000\n",
      "BMW\n",
      "Son Class Instance Method\n",
      "BMW\n",
      "Father Class Instance Method\n"
     ]
    }
   ],
   "source": [
    "# Constructor Overriding\n",
    "\n",
    "class Father:\n",
    "    def __init__(self):\n",
    "        self.money = 1000\n",
    "        print(\"Father Class Constructor\")\n",
    "        \n",
    "    def show(self):\n",
    "        print(\"Father Class Instance Method\")\n",
    "        \n",
    "\n",
    "class Son(Father):\n",
    "    def __init__(self):\n",
    "        self.money = 2000\n",
    "        self.car = 'BMW'\n",
    "        print(\"Child Class Constructor\")\n",
    "    def disp(self):\n",
    "        print(self.money)\n",
    "        print(self.car)\n",
    "        print(\"Son Class Instance Method\")\n",
    "\n",
    "f = Father()\n",
    "s = Son()\n",
    "s.disp()\n",
    "print(s.car)\n",
    "s.show()\n",
    "\n"
   ]
  },
  {
   "cell_type": "code",
   "execution_count": 34,
   "metadata": {},
   "outputs": [
    {
     "name": "stdout",
     "output_type": "stream",
     "text": [
      "Father Class Constructor\n",
      "2000\n",
      "Child Class Constructor\n",
      "5000\n",
      "BMW\n",
      "Son Class Instance Method\n",
      "Father Class Instance Method\n"
     ]
    }
   ],
   "source": [
    "# Constructor Overriding with parameter\n",
    "\n",
    "class Father:\n",
    "    def __init__(self,m):\n",
    "        self.money = m\n",
    "        print(\"Father Class Constructor\")\n",
    "        print(self.money)\n",
    "        \n",
    "    def show(self):\n",
    "        print(\"Father Class Instance Method\")\n",
    "        \n",
    "\n",
    "class Son(Father):\n",
    "    def __init__(self,r):\n",
    "        self.money = r\n",
    "        self.car = 'BMW'\n",
    "        print(\"Child Class Constructor\")\n",
    "    def disp(self):\n",
    "        print(self.money)\n",
    "        print(self.car)\n",
    "        print(\"Son Class Instance Method\")\n",
    "\n",
    "f = Father(2000)\n",
    "s = Son(5000)\n",
    "s.disp()\n",
    "s.show()\n",
    "\n"
   ]
  },
  {
   "cell_type": "code",
   "execution_count": 42,
   "metadata": {},
   "outputs": [
    {
     "name": "stdout",
     "output_type": "stream",
     "text": [
      "Father Class Constructor\n",
      "Child Class Constructor\n",
      "1000\n",
      "Son Class Instance Method\n",
      "1000\n"
     ]
    }
   ],
   "source": [
    "class Father:\n",
    "    def __init__(self,m):\n",
    "        self.money = m\n",
    "        print(\"Father Class Constructor\")\n",
    "        \n",
    "    def show(self):\n",
    "        print(\"Father Class Instancer Method\")\n",
    "        \n",
    "class Son(Father):\n",
    "    def __init__(self,m):\n",
    "        super().__init__(m) # Calling Parnet Class Constructor\n",
    "        print(\"Child Class Constructor\")\n",
    "        print(self.money)\n",
    "        \n",
    "    def disp(self):\n",
    "        print(\"Son Class Instance Method\")\n",
    "        print(self.money)\n",
    "        \n",
    "        \n",
    "s = Son(1000)\n",
    "s.disp()"
   ]
  },
  {
   "cell_type": "code",
   "execution_count": 43,
   "metadata": {},
   "outputs": [
    {
     "name": "stdout",
     "output_type": "stream",
     "text": [
      "Father Class Constructor\n",
      "Child Class Constructor\n",
      "1000\n",
      "Son Class Instance Method\n",
      "1000\n",
      "Python\n"
     ]
    }
   ],
   "source": [
    "class Father:\n",
    "    def __init__(self,m):\n",
    "        self.money = m\n",
    "        print(\"Father Class Constructor\")\n",
    "        \n",
    "    def show(self):\n",
    "        print(\"Father Class Instancer Method\")\n",
    "        \n",
    "class Son(Father):\n",
    "    def __init__(self,m,j):\n",
    "        super().__init__(m) # Calling Parnet Class Constructor\n",
    "        self.job = j\n",
    "        print(\"Child Class Constructor\")\n",
    "        print(self.money)\n",
    "        \n",
    "    def disp(self):\n",
    "        print(\"Son Class Instance Method\")\n",
    "        print(self.money)\n",
    "        print(self.job)\n",
    "        \n",
    "        \n",
    "s = Son(1000,'Python')\n",
    "s.disp()"
   ]
  },
  {
   "cell_type": "markdown",
   "metadata": {},
   "source": [
    "# Multi-Level Inheritance"
   ]
  },
  {
   "cell_type": "code",
   "execution_count": 6,
   "metadata": {},
   "outputs": [
    {
     "name": "stdout",
     "output_type": "stream",
     "text": [
      "BMW\n",
      "1000\n",
      "BMW\n",
      "1000\n",
      "1000\n",
      "2000\n",
      "BMW\n",
      "2000\n"
     ]
    }
   ],
   "source": [
    "class Father:\n",
    "    def __init__(self):\n",
    "        self.car = 'BMW'\n",
    "        self.money = 1000\n",
    "        \n",
    "\n",
    "class Son(Father):\n",
    "    def show_details(self):\n",
    "        print(self.car)\n",
    "        print(self.money)\n",
    "    \n",
    "class GrandChild(Son):\n",
    "    def show(self):\n",
    "        print(self.car)\n",
    "        print(self.money)\n",
    "        \n",
    "        \n",
    "        \n",
    "g = GrandChild()\n",
    "\n",
    "g.show()\n",
    "g.show_details()\n",
    "print(g.money)\n",
    "\n",
    "g.money = 2000\n",
    "\n",
    "print(g.money)\n",
    "\n",
    "g.show()\n"
   ]
  },
  {
   "cell_type": "code",
   "execution_count": 13,
   "metadata": {},
   "outputs": [
    {
     "name": "stdout",
     "output_type": "stream",
     "text": [
      "Father Class Constructor\n",
      "Son Class Constructor\n",
      "GrandSon Class Constructor\n",
      "GrandSon Class Method\n",
      "Son Class Method\n",
      "Father Class Method\n"
     ]
    }
   ],
   "source": [
    "class Father:\n",
    "    def __init__(self):\n",
    "        print(\"Father Class Constructor\")\n",
    "    \n",
    "    def showF(self):\n",
    "        print(\"Father Class Method\")\n",
    "\n",
    "class Son(Father):\n",
    "    def __init__(self):\n",
    "        super().__init__()\n",
    "        print(\"Son Class Constructor\")\n",
    "    \n",
    "    def showC(self):\n",
    "        print(\"Son Class Method\")\n",
    "    \n",
    "class GrandChild(Son):\n",
    "    def __init__(self):\n",
    "        super().__init__()\n",
    "        print(\"GrandSon Class Constructor\")\n",
    "    \n",
    "    def showG(self):\n",
    "        print(\"GrandSon Class Method\")\n",
    "        \n",
    "        \n",
    "g = GrandChild()\n",
    "g.showG()\n",
    "g.showC()\n",
    "g.showF()\n",
    "\n",
    "\n",
    "\n",
    "\n"
   ]
  },
  {
   "cell_type": "markdown",
   "metadata": {},
   "source": [
    "# Heriarchical Inheritance"
   ]
  },
  {
   "cell_type": "code",
   "execution_count": 21,
   "metadata": {},
   "outputs": [
    {
     "name": "stdout",
     "output_type": "stream",
     "text": [
      "Father Class Method\n",
      "Daughter Class Method\n"
     ]
    },
    {
     "ename": "AttributeError",
     "evalue": "'Daughter' object has no attribute 'showS'",
     "output_type": "error",
     "traceback": [
      "\u001b[1;31m---------------------------------------------------------------------------\u001b[0m",
      "\u001b[1;31mAttributeError\u001b[0m                            Traceback (most recent call last)",
      "\u001b[1;32m<ipython-input-21-3ecb9a9cae99>\u001b[0m in \u001b[0;36m<module>\u001b[1;34m\u001b[0m\n\u001b[0;32m     16\u001b[0m \u001b[0md\u001b[0m\u001b[1;33m.\u001b[0m\u001b[0mshowF\u001b[0m\u001b[1;33m(\u001b[0m\u001b[1;33m)\u001b[0m\u001b[1;33m\u001b[0m\u001b[1;33m\u001b[0m\u001b[0m\n\u001b[0;32m     17\u001b[0m \u001b[0md\u001b[0m\u001b[1;33m.\u001b[0m\u001b[0mshowG\u001b[0m\u001b[1;33m(\u001b[0m\u001b[1;33m)\u001b[0m\u001b[1;33m\u001b[0m\u001b[1;33m\u001b[0m\u001b[0m\n\u001b[1;32m---> 18\u001b[1;33m \u001b[0md\u001b[0m\u001b[1;33m.\u001b[0m\u001b[0mshowS\u001b[0m\u001b[1;33m(\u001b[0m\u001b[1;33m)\u001b[0m\u001b[1;33m\u001b[0m\u001b[1;33m\u001b[0m\u001b[0m\n\u001b[0m\u001b[0;32m     19\u001b[0m \u001b[1;33m\u001b[0m\u001b[0m\n",
      "\u001b[1;31mAttributeError\u001b[0m: 'Daughter' object has no attribute 'showS'"
     ]
    }
   ],
   "source": [
    "class Father:\n",
    "    def showF(self):\n",
    "        print(\"Father Class Method\")\n",
    "        \n",
    "class Son(Father):\n",
    "    def showS(self):\n",
    "        print(\"Son Class Method\")\n",
    "    \n",
    "class Daughter(Father):\n",
    "    def showG(self):\n",
    "        print(\"Daughter Class Method\")\n",
    "        \n",
    "        \n",
    "d = Daughter()\n",
    "\n",
    "d.showF()\n",
    "d.showG()\n",
    "d.showS()\n",
    "        \n"
   ]
  },
  {
   "cell_type": "code",
   "execution_count": 29,
   "metadata": {},
   "outputs": [
    {
     "name": "stdout",
     "output_type": "stream",
     "text": [
      "Father Class Constructor\n",
      "Daughter Class Constructor\n"
     ]
    }
   ],
   "source": [
    "class Father:\n",
    "    def __init__(self):\n",
    "        print(\"Father Class Constructor\")\n",
    "    def showF(self):\n",
    "        print(\"Father Class Method\")\n",
    "        \n",
    "class Son(Father):\n",
    "    def __init__(self):\n",
    "        super().__init__()\n",
    "        print(\"Son Class Constructor\")\n",
    "    def showS(self):\n",
    "        print(\"Son Class Method\")\n",
    "    \n",
    "class Daughter(Father):\n",
    "    \n",
    "    def __init__(self):\n",
    "        super().__init__()\n",
    "        print(\"Daughter Class Constructor\")\n",
    "    def showG(self):\n",
    "        print(\"Daughter Class Method\")\n",
    "        \n",
    "        \n",
    "d = Daughter()\n",
    "\n",
    "\n",
    "#d.showF()\n",
    "#d.showG()\n",
    "#d.showS()\n",
    "        \n"
   ]
  },
  {
   "cell_type": "markdown",
   "metadata": {},
   "source": [
    "# Multiple Inheritance"
   ]
  },
  {
   "cell_type": "code",
   "execution_count": 5,
   "metadata": {},
   "outputs": [
    {
     "name": "stdout",
     "output_type": "stream",
     "text": [
      "Mother Class Method\n",
      "Faher Class Method\n",
      "Mother Class Method\n"
     ]
    }
   ],
   "source": [
    "class Father:\n",
    "    def showF(self):\n",
    "        print(\"Faher Class Method\")\n",
    "\n",
    "class Mother:\n",
    "     def showM(self):\n",
    "        print(\"Mother Class Method\")\n",
    "    \n",
    "\n",
    "class Son(Father,Mother):\n",
    "     def showS(self):\n",
    "        print(\"Son Class Method\")\n",
    "        \n",
    "s = Son()\n",
    "\n",
    "s.showM()\n",
    "s.showF()\n",
    "\n",
    "s.showM()\n",
    "\n"
   ]
  },
  {
   "cell_type": "code",
   "execution_count": 13,
   "metadata": {},
   "outputs": [
    {
     "name": "stdout",
     "output_type": "stream",
     "text": [
      "Mother Class Constructor \n",
      "Father Class Constructor \n",
      "Son Class Constructor \n",
      "Mother Class Method\n",
      "Faher Class Method\n",
      "Mother Class Method\n"
     ]
    }
   ],
   "source": [
    "class Father:\n",
    "    \n",
    "    def __init__(self):\n",
    "        super().__init__()\n",
    "        print(\"Father Class Constructor \")\n",
    "        \n",
    "    def showF(self):\n",
    "        print(\"Faher Class Method\")\n",
    "\n",
    "class Mother:\n",
    "    def __init__(self):\n",
    "        super().__init__()\n",
    "        \n",
    "        print(\"Mother Class Constructor \")\n",
    "        \n",
    "    def showM(self):\n",
    "        print(\"Mother Class Method\")\n",
    "    \n",
    "\n",
    "class Son(Father,Mother):\n",
    "    \n",
    "    def __init__(self):\n",
    "        super().__init__()\n",
    "        print(\"Son Class Constructor \")\n",
    "    def showS(self):\n",
    "        print(\"Son Class Method\")\n",
    "        \n",
    "s = Son()\n",
    "\n",
    "s.showM()\n",
    "s.showF()\n",
    "\n",
    "s.showM()\n",
    "\n"
   ]
  },
  {
   "cell_type": "code",
   "execution_count": null,
   "metadata": {},
   "outputs": [],
   "source": []
  },
  {
   "cell_type": "code",
   "execution_count": null,
   "metadata": {},
   "outputs": [],
   "source": []
  },
  {
   "cell_type": "code",
   "execution_count": null,
   "metadata": {},
   "outputs": [],
   "source": []
  },
  {
   "cell_type": "code",
   "execution_count": null,
   "metadata": {},
   "outputs": [],
   "source": []
  },
  {
   "cell_type": "code",
   "execution_count": null,
   "metadata": {},
   "outputs": [],
   "source": []
  },
  {
   "cell_type": "code",
   "execution_count": null,
   "metadata": {},
   "outputs": [],
   "source": []
  },
  {
   "cell_type": "code",
   "execution_count": null,
   "metadata": {},
   "outputs": [],
   "source": []
  },
  {
   "cell_type": "code",
   "execution_count": null,
   "metadata": {},
   "outputs": [],
   "source": []
  },
  {
   "cell_type": "code",
   "execution_count": null,
   "metadata": {},
   "outputs": [],
   "source": []
  },
  {
   "cell_type": "code",
   "execution_count": null,
   "metadata": {},
   "outputs": [],
   "source": []
  },
  {
   "cell_type": "code",
   "execution_count": null,
   "metadata": {},
   "outputs": [],
   "source": []
  },
  {
   "cell_type": "code",
   "execution_count": null,
   "metadata": {},
   "outputs": [],
   "source": []
  },
  {
   "cell_type": "code",
   "execution_count": null,
   "metadata": {},
   "outputs": [],
   "source": []
  },
  {
   "cell_type": "code",
   "execution_count": null,
   "metadata": {},
   "outputs": [],
   "source": []
  },
  {
   "cell_type": "code",
   "execution_count": null,
   "metadata": {},
   "outputs": [],
   "source": []
  },
  {
   "cell_type": "code",
   "execution_count": null,
   "metadata": {},
   "outputs": [],
   "source": []
  },
  {
   "cell_type": "markdown",
   "metadata": {},
   "source": [
    "# Polymorphism\n",
    "\n",
    "Poly-> Many\n",
    "Morphs -> Forms\n",
    "1. Duck Typing\n",
    "2. Operator Overloading\n",
    "3. Method Overloading\n",
    "4. Method Overriding\n",
    "\n"
   ]
  },
  {
   "cell_type": "code",
   "execution_count": 14,
   "metadata": {},
   "outputs": [
    {
     "name": "stdout",
     "output_type": "stream",
     "text": [
      "thapak\n",
      "thablak \n"
     ]
    }
   ],
   "source": [
    "# Duck Typing\n",
    "class Duck:\n",
    "    def walk(self):\n",
    "        print(\"thapak\")\n",
    "        \n",
    "\n",
    "class Horse:\n",
    "    def walk(self):\n",
    "        print(\"thablak \")\n",
    "\n",
    "\n",
    "        \n",
    "        \n",
    "def myfunction(obj):\n",
    "    obj.walk()\n",
    "\n",
    "        \n",
    "    \n",
    "    \n",
    "\n",
    "d = Duck()\n",
    "h = Horse()\n",
    "\n",
    "myfunction(d)\n",
    "myfunction(h)\n",
    "    "
   ]
  },
  {
   "cell_type": "code",
   "execution_count": 6,
   "metadata": {},
   "outputs": [
    {
     "ename": "AttributeError",
     "evalue": "'Cat' object has no attribute 'walk'",
     "output_type": "error",
     "traceback": [
      "\u001b[1;31m---------------------------------------------------------------------------\u001b[0m",
      "\u001b[1;31mAttributeError\u001b[0m                            Traceback (most recent call last)",
      "\u001b[1;32m<ipython-input-6-9f45b0db14a8>\u001b[0m in \u001b[0;36m<module>\u001b[1;34m\u001b[0m\n\u001b[0;32m     24\u001b[0m \u001b[0mc\u001b[0m \u001b[1;33m=\u001b[0m \u001b[0mCat\u001b[0m\u001b[1;33m(\u001b[0m\u001b[1;33m)\u001b[0m\u001b[1;33m\u001b[0m\u001b[1;33m\u001b[0m\u001b[0m\n\u001b[0;32m     25\u001b[0m \u001b[1;33m\u001b[0m\u001b[0m\n\u001b[1;32m---> 26\u001b[1;33m \u001b[0mmyfunction\u001b[0m\u001b[1;33m(\u001b[0m\u001b[0mc\u001b[0m\u001b[1;33m)\u001b[0m \u001b[1;31m# Error\u001b[0m\u001b[1;33m\u001b[0m\u001b[1;33m\u001b[0m\u001b[0m\n\u001b[0m",
      "\u001b[1;32m<ipython-input-6-9f45b0db14a8>\u001b[0m in \u001b[0;36mmyfunction\u001b[1;34m(obj)\u001b[0m\n\u001b[0;32m     18\u001b[0m \u001b[1;33m\u001b[0m\u001b[0m\n\u001b[0;32m     19\u001b[0m \u001b[1;32mdef\u001b[0m \u001b[0mmyfunction\u001b[0m\u001b[1;33m(\u001b[0m\u001b[0mobj\u001b[0m\u001b[1;33m)\u001b[0m\u001b[1;33m:\u001b[0m\u001b[1;33m\u001b[0m\u001b[1;33m\u001b[0m\u001b[0m\n\u001b[1;32m---> 20\u001b[1;33m     \u001b[0mobj\u001b[0m\u001b[1;33m.\u001b[0m\u001b[0mwalk\u001b[0m\u001b[1;33m(\u001b[0m\u001b[1;33m)\u001b[0m\u001b[1;33m\u001b[0m\u001b[1;33m\u001b[0m\u001b[0m\n\u001b[0m\u001b[0;32m     21\u001b[0m \u001b[1;33m\u001b[0m\u001b[0m\n\u001b[0;32m     22\u001b[0m \u001b[1;33m\u001b[0m\u001b[0m\n",
      "\u001b[1;31mAttributeError\u001b[0m: 'Cat' object has no attribute 'walk'"
     ]
    }
   ],
   "source": [
    "class Duck:\n",
    "    def walk(self):\n",
    "        print(\"thapak\")\n",
    "        \n",
    "\n",
    "class Horse:\n",
    "    def walk(self):\n",
    "        print(\"thablak \")\n",
    "\n",
    "\n",
    "        \n",
    "        \n",
    "\n",
    "class Cat:\n",
    "    def talk(self):\n",
    "        print(\"Meow Meow\")\n",
    "        \n",
    "\n",
    "def myfunction(obj):\n",
    "    obj.walk()\n",
    "\n",
    "        \n",
    "        \n",
    "c = Cat()\n",
    "\n",
    "myfunction(c) # Error"
   ]
  },
  {
   "cell_type": "code",
   "execution_count": 7,
   "metadata": {},
   "outputs": [],
   "source": [
    "# Strong Typing"
   ]
  },
  {
   "cell_type": "code",
   "execution_count": 8,
   "metadata": {},
   "outputs": [
    {
     "name": "stdout",
     "output_type": "stream",
     "text": [
      "Meow Meow\n",
      "thablak \n",
      "thapak\n"
     ]
    }
   ],
   "source": [
    "class Duck:\n",
    "    def walk(self):\n",
    "        print(\"thapak\")\n",
    "        \n",
    "\n",
    "class Horse:\n",
    "    def walk(self):\n",
    "        print(\"thablak \")\n",
    "\n",
    "\n",
    "        \n",
    "        \n",
    "\n",
    "class Cat:\n",
    "    def talk(self):\n",
    "        print(\"Meow Meow\")\n",
    "        \n",
    "\n",
    "def myfunction(obj): \n",
    "    '''Here we will solve the previous error!!!!!!!!!! using hasattr() function '''\n",
    "    \n",
    "    if hasattr(obj,'walk'):\n",
    "        obj.walk()\n",
    "    if hasattr(obj,'talk'):\n",
    "        obj.talk()\n",
    "    \n",
    "\n",
    "        \n",
    "        \n",
    "c = Cat()\n",
    "\n",
    "myfunction(c) # \n",
    "\n",
    "h = Horse()\n",
    "\n",
    "myfunction(h)\n",
    "\n",
    "d = Duck()\n",
    "myfunction(d)"
   ]
  },
  {
   "cell_type": "markdown",
   "metadata": {},
   "source": [
    "# Method Overloading \n",
    "\n"
   ]
  },
  {
   "cell_type": "code",
   "execution_count": 9,
   "metadata": {},
   "outputs": [
    {
     "name": "stdout",
     "output_type": "stream",
     "text": [
      "Not variable\n"
     ]
    },
    {
     "ename": "TypeError",
     "evalue": "sum() takes 1 positional argument but 2 were given",
     "output_type": "error",
     "traceback": [
      "\u001b[1;31m---------------------------------------------------------------------------\u001b[0m",
      "\u001b[1;31mTypeError\u001b[0m                                 Traceback (most recent call last)",
      "\u001b[1;32m<ipython-input-9-0871cba001ae>\u001b[0m in \u001b[0;36m<module>\u001b[1;34m\u001b[0m\n\u001b[0;32m     14\u001b[0m \u001b[0mobj\u001b[0m\u001b[1;33m.\u001b[0m\u001b[0msum\u001b[0m\u001b[1;33m(\u001b[0m\u001b[1;33m)\u001b[0m\u001b[1;33m\u001b[0m\u001b[1;33m\u001b[0m\u001b[0m\n\u001b[0;32m     15\u001b[0m \u001b[1;33m\u001b[0m\u001b[0m\n\u001b[1;32m---> 16\u001b[1;33m \u001b[0mobj\u001b[0m\u001b[1;33m.\u001b[0m\u001b[0msum\u001b[0m\u001b[1;33m(\u001b[0m\u001b[1;36m10\u001b[0m\u001b[1;33m)\u001b[0m\u001b[1;33m\u001b[0m\u001b[1;33m\u001b[0m\u001b[0m\n\u001b[0m",
      "\u001b[1;31mTypeError\u001b[0m: sum() takes 1 positional argument but 2 were given"
     ]
    }
   ],
   "source": [
    "class Myclass:\n",
    "    def sum(self,a):\n",
    "        self.a = a\n",
    "        print(self.a)\n",
    "        \n",
    "    def sum(self):\n",
    "        print(\"Not variable\")\n",
    "        \n",
    "\n",
    "        \n",
    "        \n",
    "    \n",
    "obj = Myclass()\n",
    "obj.sum()\n",
    "\n",
    "obj.sum(10)\n"
   ]
  },
  {
   "cell_type": "code",
   "execution_count": 10,
   "metadata": {},
   "outputs": [
    {
     "name": "stdout",
     "output_type": "stream",
     "text": [
      "6\n"
     ]
    }
   ],
   "source": [
    "class Myclass:\n",
    "    def sum(self,a,b,c):\n",
    "        s = a+b+c\n",
    "        print(s)\n",
    "        \n",
    "\n",
    "        \n",
    "        \n",
    "    \n",
    "obj = Myclass()\n",
    "\n",
    "obj.sum(1,2,3)\n"
   ]
  },
  {
   "cell_type": "code",
   "execution_count": 11,
   "metadata": {},
   "outputs": [
    {
     "name": "stdout",
     "output_type": "stream",
     "text": [
      "6\n",
      "40\n",
      "\n",
      "1 number given\n"
     ]
    }
   ],
   "source": [
    "class Myclass:\n",
    "    def sum(self,a=None,b=None,c=None):\n",
    "        \n",
    "        if a!=None and b!=None and c!=None:\n",
    "            s = a+b+c\n",
    "            print(s)\n",
    "            \n",
    "        elif a!=None and b!=None:\n",
    "            return a*b\n",
    "        else:\n",
    "            print(\"1 number given\")\n",
    "        \n",
    "        \n",
    "\n",
    "        \n",
    "        \n",
    "    \n",
    "obj = Myclass()\n",
    "obj.sum(1,2,3)\n",
    "print(obj.sum(10,4))\n",
    "print()\n",
    "obj.sum(10)\n"
   ]
  },
  {
   "cell_type": "markdown",
   "metadata": {},
   "source": [
    "# Operator Overloading\n",
    "\n",
    "1. +,-,*,/"
   ]
  },
  {
   "cell_type": "code",
   "execution_count": 12,
   "metadata": {},
   "outputs": [
    {
     "name": "stdout",
     "output_type": "stream",
     "text": [
      "30\n",
      "30\n",
      "helloworld\n"
     ]
    }
   ],
   "source": [
    "print(10+20)\n",
    "\n",
    "print(int.__add__(10,20))\n",
    "print(str.__add__('hello','world'))\n",
    "\n",
    "#__add__(self,other)\n",
    "#__sub__(self,other)\n",
    "#__mul__(self,other)\n",
    "\n",
    "# int.__add__(self,other)"
   ]
  },
  {
   "cell_type": "code",
   "execution_count": 13,
   "metadata": {},
   "outputs": [
    {
     "name": "stdout",
     "output_type": "stream",
     "text": [
      "30\n"
     ]
    }
   ],
   "source": [
    "class A:\n",
    "    def __init__(self,x):\n",
    "        self.x = x\n",
    "    \n",
    "    def __add__(self,other):\n",
    "        return self.x + other.x\n",
    "        \n",
    "        \n",
    "        \n",
    "class B:\n",
    "     def __init__(self,x):\n",
    "        self.x = x\n",
    "        \n",
    "        \n",
    "a = A(10)\n",
    "b = B(20)\n",
    "\n",
    "print(a+b) # A.__add__(self,other)\n",
    "    "
   ]
  },
  {
   "cell_type": "markdown",
   "metadata": {},
   "source": [
    "# Encapsulation"
   ]
  },
  {
   "cell_type": "code",
   "execution_count": 6,
   "metadata": {},
   "outputs": [
    {
     "name": "stdout",
     "output_type": "stream",
     "text": [
      "12345\n",
      "abcde\n"
     ]
    }
   ],
   "source": [
    "class Fb:\n",
    "    def __init__(self):\n",
    "        self.__password = '12345'\n",
    "        self.__username = 'username'\n",
    "        \n",
    "    def get_password(self):\n",
    "        return self.__password\n",
    "    \n",
    "    def set_password(self,p):\n",
    "        self.__password = p\n",
    "        \n",
    "    def get_username(self):\n",
    "        return self.__username\n",
    "    def set_username(self,n):\n",
    "        self.__username = n\n",
    "        \n",
    "        \n",
    "        \n",
    "\n",
    "fb = Fb()\n",
    "\n",
    "print(fb.get_password())\n",
    "fb.set_password('abcde')\n",
    "print(fb.get_password())"
   ]
  },
  {
   "cell_type": "markdown",
   "metadata": {},
   "source": [
    "# Protected Members\n",
    "\n",
    "Protected members of a class are accessible from within the class and are also available to its sub-classes. No other environment is permitted access to it. This enables specific resources of the parent class to be inherited by the child class.\n",
    "\n",
    "Python's convention to make an instance variable protected is to add a prefix _ (single underscore) to it. This effectively prevents it from being accessed unless it is from within a sub-class."
   ]
  },
  {
   "cell_type": "code",
   "execution_count": 10,
   "metadata": {},
   "outputs": [
    {
     "name": "stdout",
     "output_type": "stream",
     "text": [
      "Jack\n",
      "17\n",
      "abc School\n",
      "John\n"
     ]
    }
   ],
   "source": [
    "class Student:\n",
    "    _schoolName = 'abc School' # protected class attribute\n",
    "    \n",
    "    def __init__(self, name, age):\n",
    "        self._name=name  # protected instance attribute\n",
    "        self._age=age # protected instance attribute\\\n",
    "\n",
    "s = Student('Jack',17)\n",
    "print(s._name)\n",
    "print(s._age)\n",
    "print(s._schoolName)\n",
    "s._name = 'John'\n",
    "print(s._name)"
   ]
  },
  {
   "cell_type": "code",
   "execution_count": 15,
   "metadata": {},
   "outputs": [
    {
     "name": "stdout",
     "output_type": "stream",
     "text": [
      "John\n",
      "Jack\n",
      "Jack\n"
     ]
    }
   ],
   "source": [
    "class Student:\n",
    "    def __init__(self,name):\n",
    "        self._name = name\n",
    "    @property\n",
    "    def name(self):\n",
    "        return self._name\n",
    "    @name.setter\n",
    "    def name(self,newname):\n",
    "        self._name = newname\n",
    "        \n",
    "        \n",
    "s = Student('John')\n",
    "print(s.name)\n",
    "s.name = 'Jack'\n",
    "print(s.name)\n",
    "print(s._name)\n",
    "        \n",
    "        \n"
   ]
  },
  {
   "cell_type": "markdown",
   "metadata": {},
   "source": [
    "\n",
    "Above, @property decorator is used to make the name() method as property and @name.\n",
    "setter decorator to another overloads of the name() method as property setter method.\n",
    "Now, _name is protected.\n"
   ]
  },
  {
   "cell_type": "markdown",
   "metadata": {},
   "source": [
    "# Private Members\n",
    "\n",
    "Python doesn't have any mechanism that effectively restricts access to any instance variable or method. Python prescribes a convention of prefixing the name of the variable/method with a single or double underscore to emulate the behavior of protected and private access specifiers.\n",
    "\n",
    "The double underscore __ prefixed to a variable makes it private. It gives a strong suggestion not to touch it from outside the class. Any attempt to do so will result in an AttributeError:"
   ]
  },
  {
   "cell_type": "code",
   "execution_count": 30,
   "metadata": {},
   "outputs": [
    {
     "name": "stdout",
     "output_type": "stream",
     "text": [
      "XYZ School\n",
      "This is private method.\n"
     ]
    }
   ],
   "source": [
    "class Student:\n",
    "    __schoolName = 'XYZ School' # private class attribute\n",
    "\n",
    "    def __init__(self, name, age):\n",
    "        self.__name=name  # private instance attribute\n",
    "        self.__salary=age # private instance attribute\n",
    "    def __display(self):  # private method\n",
    "        print('This is private method.')\n",
    "        \n",
    "std = Student(\"Bill\", 25)\n",
    "print(std._Student__schoolName)\n",
    "std._Student__display()"
   ]
  },
  {
   "cell_type": "markdown",
   "metadata": {},
   "source": [
    "# Abstraction"
   ]
  },
  {
   "cell_type": "code",
   "execution_count": 13,
   "metadata": {},
   "outputs": [
    {
     "name": "stdout",
     "output_type": "stream",
     "text": [
      "The area method\n",
      "area of the triangle:  100.0\n",
      "area of the ranctangle:  200\n"
     ]
    }
   ],
   "source": [
    "\n",
    "\n",
    "class Shape:\n",
    "    def __init__(self,dim1,dim2):\n",
    "        self.dim1 = dim1\n",
    "        self.dim2 = dim2\n",
    "        \n",
    "    def area(self):\n",
    "        print(\"The area method\")\n",
    "        \n",
    "class Triangle(Shape):\n",
    "    def area(self):\n",
    "        print(\"area of the triangle: \",0.5*self.dim1*self.dim2)\n",
    "        \n",
    "class Ractangle(Shape):\n",
    "    def area(self):\n",
    "        print(\"area of the ranctangle: \",self.dim1*self.dim2)\n",
    "        \n",
    "        \n",
    "        \n",
    "s = Shape(5,10)\n",
    "s.area()\n",
    "\n",
    "t = Triangle(10,20)\n",
    "\n",
    "t.area()\n",
    "\n",
    "r = Ractangle(20,10)\n",
    "r.area()"
   ]
  },
  {
   "cell_type": "code",
   "execution_count": 16,
   "metadata": {},
   "outputs": [
    {
     "ename": "TypeError",
     "evalue": "Can't instantiate abstract class Shape with abstract methods area",
     "output_type": "error",
     "traceback": [
      "\u001b[1;31m---------------------------------------------------------------------------\u001b[0m",
      "\u001b[1;31mTypeError\u001b[0m                                 Traceback (most recent call last)",
      "\u001b[1;32m<ipython-input-16-7adf246a02a5>\u001b[0m in \u001b[0;36m<module>\u001b[1;34m\u001b[0m\n\u001b[0;32m     19\u001b[0m \u001b[1;33m\u001b[0m\u001b[0m\n\u001b[0;32m     20\u001b[0m \u001b[1;33m\u001b[0m\u001b[0m\n\u001b[1;32m---> 21\u001b[1;33m \u001b[0ms\u001b[0m \u001b[1;33m=\u001b[0m \u001b[0mShape\u001b[0m\u001b[1;33m(\u001b[0m\u001b[1;36m5\u001b[0m\u001b[1;33m,\u001b[0m\u001b[1;36m10\u001b[0m\u001b[1;33m)\u001b[0m\u001b[1;33m\u001b[0m\u001b[1;33m\u001b[0m\u001b[0m\n\u001b[0m\u001b[0;32m     22\u001b[0m \u001b[0ms\u001b[0m\u001b[1;33m.\u001b[0m\u001b[0marea\u001b[0m\u001b[1;33m(\u001b[0m\u001b[1;33m)\u001b[0m\u001b[1;33m\u001b[0m\u001b[1;33m\u001b[0m\u001b[0m\n\u001b[0;32m     23\u001b[0m \u001b[1;33m\u001b[0m\u001b[0m\n",
      "\u001b[1;31mTypeError\u001b[0m: Can't instantiate abstract class Shape with abstract methods area"
     ]
    }
   ],
   "source": [
    "from abc import ABC,abstractmethod\n",
    "\n",
    "class Shape(ABC):\n",
    "    def __init__(self,dim1,dim2):\n",
    "        self.dim1 = dim1\n",
    "        self.dim2 = dim2\n",
    "    @abstractmethod   \n",
    "    def area(self):\n",
    "        pass\n",
    "        \n",
    "class Triangle(Shape):\n",
    "    def area(self):\n",
    "        print(\"area of the triangle: \",0.5*self.dim1*self.dim2)\n",
    "        \n",
    "class Ractangle(Shape):\n",
    "    def area(self):\n",
    "        print(\"area of the ranctangle: \",self.dim1*self.dim2)\n",
    "        \n",
    "        \n",
    "        \n",
    "s = Shape(5,10)\n",
    "s.area()\n",
    "\n",
    "t = Triangle(10,20)\n",
    "\n",
    "t.area()\n",
    "\n",
    "r = Ractangle(20,10)\n",
    "r.area()"
   ]
  },
  {
   "cell_type": "code",
   "execution_count": 19,
   "metadata": {},
   "outputs": [
    {
     "data": {
      "text/plain": [
       "<__main__.Shape at 0x2260bb29948>"
      ]
     },
     "execution_count": 19,
     "metadata": {},
     "output_type": "execute_result"
    }
   ],
   "source": [
    "from abc import ABC,abstractmethod\n",
    "\n",
    "class Shape(ABC):\n",
    "    def __init__(self,dim1,dim2):\n",
    "        self.dim1 = dim1\n",
    "        self.dim2 = dim2   \n",
    "    def area(self):\n",
    "        pass\n",
    "        \n",
    "class Triangle(Shape):\n",
    "    def area(self):\n",
    "        print(\"area of the triangle: \",0.5*self.dim1*self.dim2)\n",
    "        \n",
    "class Ractangle(Shape):\n",
    "    def area(self):\n",
    "        print(\"area of the ranctangle: \",self.dim1*self.dim2)\n",
    "        \n",
    "        \n",
    "        \n",
    "Shape(5,10)\n"
   ]
  },
  {
   "cell_type": "markdown",
   "metadata": {},
   "source": [
    "# Exception\n",
    "\n",
    "\n",
    "1. I/O error\n",
    "2. File Open Error\n",
    "3. Import Error\n",
    "4. Value Error "
   ]
  },
  {
   "cell_type": "code",
   "execution_count": 20,
   "metadata": {},
   "outputs": [
    {
     "ename": "ZeroDivisionError",
     "evalue": "division by zero",
     "output_type": "error",
     "traceback": [
      "\u001b[1;31m---------------------------------------------------------------------------\u001b[0m",
      "\u001b[1;31mZeroDivisionError\u001b[0m                         Traceback (most recent call last)",
      "\u001b[1;32m<ipython-input-20-fe01563e1bc6>\u001b[0m in \u001b[0;36m<module>\u001b[1;34m\u001b[0m\n\u001b[1;32m----> 1\u001b[1;33m \u001b[0mprint\u001b[0m\u001b[1;33m(\u001b[0m\u001b[1;36m10\u001b[0m\u001b[1;33m/\u001b[0m\u001b[1;36m0\u001b[0m\u001b[1;33m)\u001b[0m\u001b[1;33m\u001b[0m\u001b[1;33m\u001b[0m\u001b[0m\n\u001b[0m",
      "\u001b[1;31mZeroDivisionError\u001b[0m: division by zero"
     ]
    }
   ],
   "source": [
    "print(10/0)"
   ]
  },
  {
   "cell_type": "code",
   "execution_count": 22,
   "metadata": {},
   "outputs": [
    {
     "name": "stdout",
     "output_type": "stream",
     "text": [
      "Denominator cannot be zero\n",
      "Program Ends\n"
     ]
    }
   ],
   "source": [
    "try:\n",
    "    print(10/0)\n",
    "    \n",
    "except:\n",
    "    print(\"Denominator cannot be zero\")\n",
    "    \n",
    "print(\"Program Ends\")\n",
    "    "
   ]
  },
  {
   "cell_type": "code",
   "execution_count": 29,
   "metadata": {},
   "outputs": [
    {
     "name": "stdout",
     "output_type": "stream",
     "text": [
      "5.0\n",
      "Index Cannot be grater that len\n"
     ]
    }
   ],
   "source": [
    "# Handling Specific Exception\n",
    "\n",
    "try:\n",
    "    print(10/2)\n",
    "    a = [1,2,3]\n",
    "    print(a[4])\n",
    "    \n",
    "except ZeroDivisionError:\n",
    "    print(\"Denominator cannot be zero\")\n",
    "    \n",
    "except IndexError:\n",
    "    print(\"Index Cannot be grater that len\")\n",
    "    \n",
    "    "
   ]
  },
  {
   "cell_type": "code",
   "execution_count": 30,
   "metadata": {},
   "outputs": [
    {
     "name": "stdout",
     "output_type": "stream",
     "text": [
      "Error!!\n",
      "Finally Executed\n"
     ]
    }
   ],
   "source": [
    "try:\n",
    "    \n",
    "    print(10/0)\n",
    "    \n",
    "    \n",
    "except:\n",
    "    \n",
    "    print(\"Error!!\")\n",
    "    \n",
    "    \n",
    "finally:\n",
    "    print(\"Finally Executed\")\n",
    "    "
   ]
  },
  {
   "cell_type": "code",
   "execution_count": null,
   "metadata": {},
   "outputs": [],
   "source": []
  },
  {
   "cell_type": "code",
   "execution_count": null,
   "metadata": {},
   "outputs": [],
   "source": []
  },
  {
   "cell_type": "code",
   "execution_count": null,
   "metadata": {},
   "outputs": [],
   "source": []
  },
  {
   "cell_type": "code",
   "execution_count": null,
   "metadata": {},
   "outputs": [],
   "source": []
  },
  {
   "cell_type": "code",
   "execution_count": null,
   "metadata": {},
   "outputs": [],
   "source": []
  },
  {
   "cell_type": "code",
   "execution_count": null,
   "metadata": {},
   "outputs": [],
   "source": []
  },
  {
   "cell_type": "code",
   "execution_count": null,
   "metadata": {},
   "outputs": [],
   "source": []
  },
  {
   "cell_type": "code",
   "execution_count": null,
   "metadata": {},
   "outputs": [],
   "source": []
  },
  {
   "cell_type": "code",
   "execution_count": null,
   "metadata": {},
   "outputs": [],
   "source": []
  },
  {
   "cell_type": "code",
   "execution_count": null,
   "metadata": {},
   "outputs": [],
   "source": []
  },
  {
   "cell_type": "code",
   "execution_count": null,
   "metadata": {},
   "outputs": [],
   "source": []
  },
  {
   "cell_type": "code",
   "execution_count": null,
   "metadata": {},
   "outputs": [],
   "source": []
  },
  {
   "cell_type": "code",
   "execution_count": null,
   "metadata": {},
   "outputs": [],
   "source": []
  },
  {
   "cell_type": "code",
   "execution_count": null,
   "metadata": {},
   "outputs": [],
   "source": []
  },
  {
   "cell_type": "code",
   "execution_count": null,
   "metadata": {},
   "outputs": [],
   "source": []
  },
  {
   "cell_type": "code",
   "execution_count": null,
   "metadata": {},
   "outputs": [],
   "source": []
  },
  {
   "cell_type": "code",
   "execution_count": null,
   "metadata": {},
   "outputs": [],
   "source": []
  },
  {
   "cell_type": "code",
   "execution_count": null,
   "metadata": {},
   "outputs": [],
   "source": []
  },
  {
   "cell_type": "code",
   "execution_count": null,
   "metadata": {},
   "outputs": [],
   "source": []
  },
  {
   "cell_type": "code",
   "execution_count": null,
   "metadata": {},
   "outputs": [],
   "source": []
  },
  {
   "cell_type": "code",
   "execution_count": null,
   "metadata": {},
   "outputs": [],
   "source": []
  },
  {
   "cell_type": "code",
   "execution_count": null,
   "metadata": {},
   "outputs": [],
   "source": []
  },
  {
   "cell_type": "code",
   "execution_count": null,
   "metadata": {},
   "outputs": [],
   "source": []
  },
  {
   "cell_type": "code",
   "execution_count": null,
   "metadata": {},
   "outputs": [],
   "source": []
  },
  {
   "cell_type": "code",
   "execution_count": null,
   "metadata": {},
   "outputs": [],
   "source": []
  },
  {
   "cell_type": "code",
   "execution_count": null,
   "metadata": {},
   "outputs": [],
   "source": []
  },
  {
   "cell_type": "code",
   "execution_count": null,
   "metadata": {},
   "outputs": [],
   "source": []
  },
  {
   "cell_type": "code",
   "execution_count": null,
   "metadata": {},
   "outputs": [],
   "source": []
  },
  {
   "cell_type": "code",
   "execution_count": null,
   "metadata": {},
   "outputs": [],
   "source": []
  },
  {
   "cell_type": "code",
   "execution_count": null,
   "metadata": {},
   "outputs": [],
   "source": []
  },
  {
   "cell_type": "code",
   "execution_count": null,
   "metadata": {},
   "outputs": [],
   "source": []
  },
  {
   "cell_type": "code",
   "execution_count": null,
   "metadata": {},
   "outputs": [],
   "source": []
  },
  {
   "cell_type": "code",
   "execution_count": null,
   "metadata": {},
   "outputs": [],
   "source": []
  }
 ],
 "metadata": {
  "kernelspec": {
   "display_name": "Python 3",
   "language": "python",
   "name": "python3"
  },
  "language_info": {
   "codemirror_mode": {
    "name": "ipython",
    "version": 3
   },
   "file_extension": ".py",
   "mimetype": "text/x-python",
   "name": "python",
   "nbconvert_exporter": "python",
   "pygments_lexer": "ipython3",
   "version": "3.7.4"
  }
 },
 "nbformat": 4,
 "nbformat_minor": 2
}
